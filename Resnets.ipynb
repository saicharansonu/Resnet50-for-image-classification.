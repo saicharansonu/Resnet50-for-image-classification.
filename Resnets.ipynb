{
 "cells": [
  {
   "cell_type": "markdown",
   "metadata": {},
   "source": [
    "# IMPORTING THE LIBRARIES"
   ]
  },
  {
   "cell_type": "code",
   "execution_count": 17,
   "metadata": {},
   "outputs": [],
   "source": [
    "import numpy as np\n",
    "from keras import layers\n",
    "from keras.layers import Input, Add, Dense, Activation, ZeroPadding2D, BatchNormalization, Flatten, Conv2D, AveragePooling2D, MaxPooling2D, GlobalMaxPooling2D\n",
    "from keras.models import Model, load_model\n",
    "from keras.preprocessing import image\n",
    "from keras.utils import layer_utils\n",
    "from keras.utils.data_utils import get_file\n",
    "from keras.applications.imagenet_utils import preprocess_input\n",
    "import pydot\n",
    "from IPython.display import SVG\n",
    "from keras.utils.vis_utils import model_to_dot\n",
    "from keras.utils import plot_model\n",
    "from keras.initializers import glorot_uniform\n",
    "import scipy.misc\n",
    "from matplotlib.pyplot import imshow\n",
    "from sklearn.model_selection import train_test_split\n",
    "import random\n",
    "%matplotlib inline\n",
    "import tensorflow as tf\n",
    "import glob\n",
    "import cv2\n",
    "import matplotlib.pyplot as plt\n",
    "import keras.backend as K\n",
    "K.set_image_data_format('channels_last')\n",
    "K.set_learning_phase(1)"
   ]
  },
  {
   "cell_type": "markdown",
   "metadata": {},
   "source": [
    "# DEFINING THE IDENTITY BLOCK"
   ]
  },
  {
   "cell_type": "markdown",
   "metadata": {},
   "source": [
    "The identity block contains main layers executed in the algorithm.\n",
    "\n",
    "Algorithm consists of 3 parts.\n",
    "\n",
    "Each part consists of:\n",
    "    1. Convolutional2D\n",
    "    2. Batch normalization\n",
    "    3. Activation function\n",
    "\n",
    "At the end, the layers are added to each other:\n",
    "    \n",
    "    X_shortcut has the weights of input data layer.\n",
    "    X in the end consists of the weights of data passed through all those parts.\n",
    "    \n",
    "    By adding those 2 layers will give an output."
   ]
  },
  {
   "cell_type": "code",
   "execution_count": 18,
   "metadata": {},
   "outputs": [],
   "source": [
    "def identity_block(X,f,filters,stage,block):\n",
    "    X_shortcut = X\n",
    "    F1,F2,F3 = filters\n",
    "    conv_name_base = 'res' + str(stage) + block + '_branch'\n",
    "    bn_name_base = 'bn' + str(stage) + block + '_branch'\n",
    "    \n",
    "    #1st part of main block\n",
    "    X = Conv2D(F1, kernel_size=(1,1), strides = (1,1), padding = 'valid', name = conv_name_base + '2a', kernel_initializer=glorot_uniform(seed=0))(X)\n",
    "    X = BatchNormalization(axis = 3,name = bn_name_base + '2a')(X)\n",
    "    X = Activation('relu')(X)\n",
    "    \n",
    "    #2nd part of the main block\n",
    "    X = Conv2D(F2, kernel_size=(f,f), strides = (1,1), padding ='same', name = conv_name_base + '2b', kernel_initializer=glorot_uniform(seed = 0))(X)\n",
    "    X = BatchNormalization(axis = 3 , name = bn_name_base + '2b')(X)\n",
    "    X = Activation('relu')(X)\n",
    "    \n",
    "    #3rd part of the main block\n",
    "    X = Conv2D(F3, kernel_size = (1,1), strides = (1,1), padding =  'same', name = conv_name_base + '2c', kernel_initializer = glorot_uniform(seed = 0) )(X)\n",
    "    X = BatchNormalization(axis = 3, name = bn_name_base + '2c')(X)\n",
    "    \n",
    "    #Adding the layer\n",
    "    X = Add()([X_shortcut,X])\n",
    "    X = Activation('relu')(X)\n",
    "    \n",
    "    return X"
   ]
  },
  {
   "cell_type": "markdown",
   "metadata": {},
   "source": [
    "# DEFINING THE CONVOLUTIONAL BLOCK"
   ]
  },
  {
   "cell_type": "markdown",
   "metadata": {},
   "source": [
    "The convolutional block is used to match the shape of input with output\n",
    "\n",
    "Convolution block consists of 5 parts:\n",
    "    3 parts of the block consists:\n",
    "        1. Convolution2D\n",
    "        2. Batch normalization\n",
    "        3. Activation\n",
    "        \n",
    "    In remaining 2 parts:\n",
    "        One of them is the shortcut path which replicates the \"Skip Connections\".\n",
    "        Last one add the layers:\n",
    "            1. The output of the input data from 1st three parts.\n",
    "            2. The output of the \"Skip Connections\" part."
   ]
  },
  {
   "cell_type": "code",
   "execution_count": 19,
   "metadata": {},
   "outputs": [],
   "source": [
    "def convolutional_block(X,f,filters,stage,block,s = 2):\n",
    "    X_shortcut = X\n",
    "    F1,F2,F3 = filters\n",
    "    conv_name_base = 'res'+str(stage) + block +'_branch'\n",
    "    bn_name_base = 'bn' + str(stage) + block + '_branch'\n",
    "    \n",
    "    # 1st block of the main part\n",
    "    X = Conv2D(F1, kernel_size= (1,1), strides = (s,s), padding = 'valid', name = conv_name_base + '2a', kernel_initializer = glorot_uniform(seed = 0) )(X)\n",
    "    X = BatchNormalization(axis = 3, name = bn_name_base + '2a')(X)\n",
    "    X = Activation('relu')(X)\n",
    "    \n",
    "    # 2nd block of the main part\n",
    "    X = Conv2D(F2, kernel_size= (f,f), strides = (1,1), padding = 'same', name = conv_name_base + '2b', kernel_initializer = glorot_uniform(seed = 0) )(X)\n",
    "    X = BatchNormalization(axis = 3, name = bn_name_base + '2b')(X)\n",
    "    X = Activation('relu')(X)\n",
    "    \n",
    "    #3rd block of the main part\n",
    "    X = Conv2D(F3, kernel_size= (1,1), strides = (1,1), padding = 'valid', name = conv_name_base + '2c', kernel_initializer = glorot_uniform(seed = 0) )(X)\n",
    "    X = BatchNormalization(axis = 3, name = bn_name_base + '2c')(X)\n",
    "    \n",
    "    # Shortcut block\n",
    "    X_shortcut = Conv2D(F3, kernel_size= (1,1), strides = (s,s), padding = 'valid', name = conv_name_base + '1', kernel_initializer = glorot_uniform(seed = 0) )(X_shortcut)\n",
    "    X = BatchNormalization(axis = 3, name = bn_name_base + '1')(X)\n",
    "    \n",
    "    # Add the layers\n",
    "    X = Add()([X_shortcut,X])\n",
    "    X = Activation('relu')(X)\n",
    "    \n",
    "    return X"
   ]
  },
  {
   "cell_type": "markdown",
   "metadata": {},
   "source": [
    "# REPLICATING THE RESNET USING IDENTITY AND CONVOLUTIONAL BLOCKS"
   ]
  },
  {
   "cell_type": "markdown",
   "metadata": {},
   "source": [
    "In the below code the entire Resnet is replicated using \"Identity block\" and \"Convolutional block\".\n",
    "\n",
    "Firstly the data is padding with size 3.Then the blocks are defined.\n",
    "\n",
    "The resnet consists of 5 stages:\n",
    "    In the first stage, it consists:\n",
    "        \n",
    "        1. Convolutional layer.\n",
    "        2. Batch normalization.\n",
    "        3. Activation.\n",
    "        4. Max pooling.\n",
    "        \n",
    "    In the second stage, it consists:\n",
    "        1 convolutional block and 2 identity blocks\n",
    "        \n",
    "    In the third stage, it consists:\n",
    "        1 Convolutional block and 3 Identity blocks\n",
    "        \n",
    "    In the fourth stage, it consists:\n",
    "        1 Convolutional block and 5 Identity block.\n",
    "    \n",
    "    In the fifth stage, it consists:\n",
    "        1 Convolutional block and 2 Identity blocks\n",
    "        \n",
    "    In the last/ Output layer, it consists:\n",
    "        \n",
    "        1. Average pooling\n",
    "        2. Flatten\n",
    "        3. Dense layers."
   ]
  },
  {
   "cell_type": "code",
   "execution_count": 20,
   "metadata": {},
   "outputs": [],
   "source": [
    "# GRADED FUNCTION: ResNet50\n",
    "\n",
    "def ResNet50(input_shape = (64, 64, 3), classes = 2):\n",
    "   \n",
    "    # Define the input as a tensor with shape input_shape\n",
    "    X_input = Input(input_shape)\n",
    "\n",
    "    \n",
    "    # Zero-Padding\n",
    "    X = ZeroPadding2D((3, 3))(X_input)\n",
    "    \n",
    "    # Stage 1\n",
    "    X = Conv2D(64, (7, 7), strides = (2, 2), name = 'conv1', kernel_initializer = glorot_uniform(seed=0))(X)\n",
    "    X = BatchNormalization(axis = 3, name = 'bn_conv1')(X)\n",
    "    X = Activation('relu')(X)\n",
    "    X = MaxPooling2D((3, 3), strides=(2, 2))(X)\n",
    "\n",
    "    # Stage 2\n",
    "    X = convolutional_block(X, f = 3, filters = [64, 64, 256], stage = 2, block='a', s = 1)\n",
    "    X = identity_block(X, 3, [64, 64, 256], stage=2, block='b')\n",
    "    X = identity_block(X, 3, [64, 64, 256], stage=2, block='c')\n",
    "\n",
    "    ### START CODE HERE ###\n",
    "\n",
    "    # Stage 3 (≈4 lines)\n",
    "    X = convolutional_block(X,f =3,filters = [128,128,512],stage = 3,block ='a',s =2)\n",
    "    X = identity_block(X,3,[128,128,512],stage=3,block='b')\n",
    "    X = identity_block(X,3,[128,128,512],stage=3,block='c')\n",
    "    X = identity_block(X,3,[128,128,512],stage=3,block='d')\n",
    "\n",
    "    # Stage 4 (≈6 lines)\n",
    "    X = convolutional_block(X,f=3,filters = [256,256,1024],stage=4,block='a',s=2)\n",
    "    X = identity_block(X,3,[256,256,1024],stage=4,block='b')\n",
    "    X = identity_block(X,3,[256,256,1024],stage=4,block='c')\n",
    "    X = identity_block(X,3,[256,256,1024],stage=4,block ='d')\n",
    "    X = identity_block(X,3,[256,256,1024],stage=4,block='e')\n",
    "    X = identity_block(X,3,[256,256,1024],stage=4,block='f')\n",
    "\n",
    "    # Stage 5 (≈3 lines)\n",
    "    X = convolutional_block(X,f=3,filters=[512,512,2048],stage=5,block='a',s=2)\n",
    "    X = identity_block(X,3,[512,512,2048],stage=5,block='b')\n",
    "    X = identity_block(X,3,[512,512,2048],stage=5,block ='c')\n",
    "\n",
    "    # AVGPOOL (≈1 line). Use \"X = AveragePooling2D(...)(X)\"\n",
    "    X = AveragePooling2D(pool_size=(2,2),name= 'avg_pool')(X)\n",
    "    \n",
    "    ### END CODE HERE ###\n",
    "\n",
    "    # output layer\n",
    "    X = Flatten()(X)\n",
    "    X = Dense(classes, activation='softmax', name='fc' + str(classes), kernel_initializer = glorot_uniform(seed=0))(X)\n",
    "    \n",
    "    \n",
    "    # Create model\n",
    "    model = Model(inputs = X_input, outputs = X, name='ResNet50')\n",
    "\n",
    "    return model"
   ]
  },
  {
   "cell_type": "markdown",
   "metadata": {},
   "source": [
    "# GENERATING THE MODEL"
   ]
  },
  {
   "cell_type": "markdown",
   "metadata": {},
   "source": [
    "Generating the Resnet model with input shape (64,64) and 2 classes"
   ]
  },
  {
   "cell_type": "code",
   "execution_count": 21,
   "metadata": {},
   "outputs": [],
   "source": [
    "model = ResNet50(input_shape = (64, 64, 3), classes = 2)"
   ]
  },
  {
   "cell_type": "markdown",
   "metadata": {},
   "source": [
    "# MODEL COMPILATION"
   ]
  },
  {
   "cell_type": "markdown",
   "metadata": {},
   "source": [
    "To compile the model, we used:\n",
    "    1. Adam optimizer\n",
    "    2. Categorical cross entropy to calculate the loss\n",
    "    3. Accuracy to measure the metrics"
   ]
  },
  {
   "cell_type": "code",
   "execution_count": 22,
   "metadata": {},
   "outputs": [],
   "source": [
    "model.compile(optimizer='adam', loss='categorical_crossentropy', metrics=['accuracy'])"
   ]
  },
  {
   "cell_type": "markdown",
   "metadata": {},
   "source": [
    "# DIRECTORY OF THE DATA"
   ]
  },
  {
   "cell_type": "code",
   "execution_count": 23,
   "metadata": {},
   "outputs": [],
   "source": [
    "parasitized = glob.glob(r'C:/Users/G.VENKATARAMANA/DataSets/cell-images-for-detecting-malaria/cell_images/cell_images/cell images for coursera/parasitized/*png')\n",
    "uninfected = glob.glob(r'C:/Users/G.VENKATARAMANA/DataSets/cell-images-for-detecting-malaria/cell_images/cell_images/cell images for coursera/uninfected/*png')"
   ]
  },
  {
   "cell_type": "markdown",
   "metadata": {},
   "source": [
    "# READING THE IMAGE DATA"
   ]
  },
  {
   "cell_type": "markdown",
   "metadata": {},
   "source": [
    "Collecting the image data from the computer\n",
    "\n",
    "1. Reading the images\n",
    "2. Resize the image to desired shape of the algorithm\n",
    "3. Appending the resized image to pre declared list\n",
    "4. Appending the label.\n",
    "\n",
    "Repeating the above steps for the number of classes.\n",
    "\n",
    "Note: Don't forget to change the label for each class"
   ]
  },
  {
   "cell_type": "code",
   "execution_count": 24,
   "metadata": {},
   "outputs": [],
   "source": [
    "labels = []\n",
    "images = []\n",
    "for i in parasitized:\n",
    "    image = cv2.imread(i)\n",
    "    resize_image = cv2.resize(image,(64,64))\n",
    "    images.append(np.array(resize_image))\n",
    "    labels.append(1)\n",
    "for j in uninfected:\n",
    "    image_j = cv2.imread(j)\n",
    "    resize_image_j = cv2.resize(image_j,(64,64))\n",
    "    images.append(np.array(resize_image_j))\n",
    "    labels.append(0)"
   ]
  },
  {
   "cell_type": "markdown",
   "metadata": {},
   "source": [
    "# CONVERTING INTO NUMPY ARRAY"
   ]
  },
  {
   "cell_type": "code",
   "execution_count": 25,
   "metadata": {},
   "outputs": [],
   "source": [
    "X = np.array(images)\n",
    "Y = np.array(labels)"
   ]
  },
  {
   "cell_type": "markdown",
   "metadata": {},
   "source": [
    "# SPLITTING THE DATA"
   ]
  },
  {
   "cell_type": "code",
   "execution_count": 26,
   "metadata": {},
   "outputs": [],
   "source": [
    "X_train_org,X_test_org,Y_train_org,Y_test_org = train_test_split(X,Y,test_size = 0.5,random_state = 7)"
   ]
  },
  {
   "cell_type": "markdown",
   "metadata": {},
   "source": [
    "# ENCODING THE LABELS"
   ]
  },
  {
   "cell_type": "code",
   "execution_count": 27,
   "metadata": {},
   "outputs": [],
   "source": [
    "def convert_to_one_hot(Y, C):\n",
    "    Y = np.eye(C)[Y.reshape(-1)].T\n",
    "    return Y"
   ]
  },
  {
   "cell_type": "markdown",
   "metadata": {},
   "source": [
    "# DISPLAYING THE DATA"
   ]
  },
  {
   "cell_type": "code",
   "execution_count": 28,
   "metadata": {},
   "outputs": [
    {
     "name": "stdout",
     "output_type": "stream",
     "text": [
      "number of training examples = 50\n",
      "number of test examples = 50\n",
      "X_train shape: (50, 64, 64, 3)\n",
      "Y_train shape: (50, 2)\n",
      "X_test shape: (50, 64, 64, 3)\n",
      "Y_test shape: (50, 2)\n"
     ]
    },
    {
     "data": {
      "text/plain": [
       "<matplotlib.image.AxesImage at 0x180bc7b7188>"
      ]
     },
     "execution_count": 28,
     "metadata": {},
     "output_type": "execute_result"
    },
    {
     "data": {
      "image/png": "[encoded data removed]",
      "text/plain": [
       "<Figure size 432x288 with 1 Axes>"
      ]
     },
     "metadata": {
      "needs_background": "light"
     },
     "output_type": "display_data"
    }
   ],
   "source": [
    "randn = random.randint(0,79)\n",
    "index = randn\n",
    "X_train = X_train_org/255.\n",
    "X_test = X_test_org/255.\n",
    "Y_train = convert_to_one_hot(Y_test_org,2).T\n",
    "Y_test = convert_to_one_hot(Y_test_org,2).T\n",
    "print (\"number of training examples = \" + str(X_train.shape[0]))\n",
    "print (\"number of test examples = \" + str(X_test.shape[0]))\n",
    "print (\"X_train shape: \" + str(X_train.shape))\n",
    "print (\"Y_train shape: \" + str(Y_train.shape))\n",
    "print (\"X_test shape: \" + str(X_test.shape))\n",
    "print (\"Y_test shape: \" + str(Y_test.shape))\n",
    "conv_layers = {}\n",
    "plt.imshow(X_train[index])"
   ]
  },
  {
   "cell_type": "markdown",
   "metadata": {},
   "source": [
    "# FITTING THE MODEL"
   ]
  },
  {
   "cell_type": "markdown",
   "metadata": {},
   "source": [
    "Fitting the defined Resnet model to classify the images with given data.\n",
    "\n",
    "Epochs are <5 because the model is so large that it nearly consists more than million parameters."
   ]
  },
  {
   "cell_type": "code",
   "execution_count": 29,
   "metadata": {},
   "outputs": [
    {
     "name": "stdout",
     "output_type": "stream",
     "text": [
      "Epoch 1/2\n",
      "50/50 [==============================] - 25s 504ms/step - loss: 9.0765 - accuracy: 0.5400\n",
      "Epoch 2/2\n",
      "50/50 [==============================] - 1s 22ms/step - loss: 10.6072 - accuracy: 0.5400\n"
     ]
    },
    {
     "data": {
      "text/plain": [
       "<keras.callbacks.callbacks.History at 0x180185b7b08>"
      ]
     },
     "execution_count": 29,
     "metadata": {},
     "output_type": "execute_result"
    }
   ],
   "source": [
    "model.fit(X_train, Y_train, epochs = 2, batch_size = 32)"
   ]
  },
  {
   "cell_type": "markdown",
   "metadata": {},
   "source": [
    "# PREDICTING THE RESULTS"
   ]
  },
  {
   "cell_type": "code",
   "execution_count": 30,
   "metadata": {},
   "outputs": [
    {
     "name": "stdout",
     "output_type": "stream",
     "text": [
      "50/50 [==============================] - 2s 48ms/step\n",
      "Loss = 9.411562042236328\n",
      "Test Accuracy = 0.4000000059604645\n"
     ]
    }
   ],
   "source": [
    "preds = model.evaluate(X_test, Y_test)\n",
    "print (\"Loss = \" + str(preds[0]))\n",
    "print (\"Test Accuracy = \" + str(preds[1]))"
   ]
  },
  {
   "cell_type": "code",
   "execution_count": 31,
   "metadata": {},
   "outputs": [
    {
     "name": "stdout",
     "output_type": "stream",
     "text": [
      "50/50 [==============================] - 0s 5ms/step\n",
      "Loss = 9.411562042236328\n",
      "Test Accuracy = 0.4000000059604645\n"
     ]
    }
   ],
   "source": [
    "preds = model.evaluate(X_test, Y_test)\n",
    "print (\"Loss = \" + str(preds[0]))\n",
    "print (\"Test Accuracy = \" + str(preds[1]))"
   ]
  },
  {
   "cell_type": "markdown",
   "metadata": {},
   "source": [
    "# FUNCTION FOR PREDICTING THE CLASS OF THE IMAGE"
   ]
  },
  {
   "cell_type": "markdown",
   "metadata": {},
   "source": [
    "The below function takes the image path as input and returns the predicted output"
   ]
  },
  {
   "cell_type": "code",
   "execution_count": 36,
   "metadata": {},
   "outputs": [],
   "source": [
    "def predict(pathofimg):\n",
    "    img_path = pathofimg\n",
    "    imga = cv2.imread(img_path)\n",
    "    img = cv2.resize(imga,(64,64))\n",
    "    x = np.array(img)\n",
    "    x = np.expand_dims(x, axis=0)\n",
    "    x = x/255.0\n",
    "    print('Input image shape:', x.shape)\n",
    "    my_image = cv2.imread(img_path)\n",
    "    imshow(my_image)\n",
    "    s = f\"class prediction vector p(0), p(1)={model.predict(x)} \"\n",
    "    return s"
   ]
  },
  {
   "cell_type": "code",
   "execution_count": 37,
   "metadata": {},
   "outputs": [
    {
     "name": "stdout",
     "output_type": "stream",
     "text": [
      "Input image shape: (1, 64, 64, 3)\n"
     ]
    },
    {
     "data": {
      "text/plain": [
       "'class prediction vector p(0), p(1)=[[5.0659019e-05 9.9994934e-01]] '"
      ]
     },
     "execution_count": 37,
     "metadata": {},
     "output_type": "execute_result"
    },
    {
     "data": {
      "image/png": "[encoded data removed]",
      "text/plain": [
       "<Figure size 432x288 with 1 Axes>"
      ]
     },
     "metadata": {
      "needs_background": "light"
     },
     "output_type": "display_data"
    }
   ],
   "source": [
    "predict('C:/Users/G.VENKATARAMANA/DataSets/cell-images-for-detecting-malaria/cell_images/cell_images/Parasitized/C100P61ThinF_IMG_20150918_144104_cell_162.png')"
   ]
  }
 ],
 "metadata": {
  "kernelspec": {
   "display_name": "TENSORFLOW",
   "language": "python",
   "name": "sai"
  },
  "language_info": {
   "codemirror_mode": {
    "name": "ipython",
    "version": 3
   },
   "file_extension": ".py",
   "mimetype": "text/x-python",
   "name": "python",
   "nbconvert_exporter": "python",
   "pygments_lexer": "ipython3",
   "version": "3.7.6"
  }
 },
 "nbformat": 4,
 "nbformat_minor": 4
}
